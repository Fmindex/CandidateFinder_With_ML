{
 "cells": [
  {
   "cell_type": "code",
   "execution_count": 18,
   "metadata": {},
   "outputs": [],
   "source": [
    "import numpy as np\n",
    "import pandas as pd\n",
    "candi_raw = pd.read_csv('full_candidate.csv')\n",
    "jobs_raw = pd.read_csv('test_job.csv')"
   ]
  },
  {
   "cell_type": "code",
   "execution_count": 19,
   "metadata": {
    "collapsed": true
   },
   "outputs": [],
   "source": [
    "candi_sk = candi_raw[\"skills\"]"
   ]
  },
  {
   "cell_type": "code",
   "execution_count": 20,
   "metadata": {
    "collapsed": true
   },
   "outputs": [],
   "source": [
    "def skill_to_list(skill_str):\n",
    "    return list(map(lambda x : x[1:-1].split(': ')[0][1:-1],skill_str[1:-1].split(', ')))"
   ]
  },
  {
   "cell_type": "code",
   "execution_count": 21,
   "metadata": {},
   "outputs": [
    {
     "data": {
      "text/plain": [
       "['Strategy',\n",
       " 'Start-ups',\n",
       " 'Business Strategy',\n",
       " 'Management',\n",
       " 'Entrepreneurship',\n",
       " 'Business Development',\n",
       " 'Strategic Planning',\n",
       " 'Project Management',\n",
       " 'E-commerce',\n",
       " 'Business Planning',\n",
       " 'New Business Development',\n",
       " 'Management Consulting',\n",
       " 'Leadership',\n",
       " 'Training',\n",
       " 'Organizational Development',\n",
       " 'Negotiation',\n",
       " 'Marketing',\n",
       " 'Program Management',\n",
       " 'Operations Management',\n",
       " 'Marketing Strategy',\n",
       " 'Mobile Devices',\n",
       " 'Change Management',\n",
       " 'Strategic Partnerships',\n",
       " 'International Business',\n",
       " 'Social Media',\n",
       " 'Microsoft Office',\n",
       " 'Customer Service',\n",
       " 'Microsoft Excel',\n",
       " 'Facebook',\n",
       " 'Microsoft Word',\n",
       " 'Research',\n",
       " 'PowerPoint',\n",
       " 'Communication',\n",
       " 'Public Speaking',\n",
       " 'Sales',\n",
       " 'Logistics',\n",
       " 'Supply Chain Management',\n",
       " 'Logistics Management',\n",
       " 'Sales Management',\n",
       " 'Marketing Management',\n",
       " 'Team Leadership',\n",
       " 'FMCG',\n",
       " 'Team Building',\n",
       " 'Consumer Products',\n",
       " 'CRM',\n",
       " 'SaaS',\n",
       " 'Market Research',\n",
       " 'Enterprise Software',\n",
       " 'Product Management',\n",
       " 'Online Marketing',\n",
       " 'Social Media Marketing',\n",
       " 'Digital Marketing',\n",
       " 'International Sales',\n",
       " 'Mobile Applications',\n",
       " 'Lead Generation',\n",
       " 'B2B',\n",
       " 'Advertising',\n",
       " 'Product Marketing',\n",
       " 'Consulting',\n",
       " 'Integration',\n",
       " 'Mobile Marketing',\n",
       " 'Direct Sales',\n",
       " 'Analysis',\n",
       " 'Telecommunications',\n",
       " 'Sales Process',\n",
       " 'Key Account Management',\n",
       " 'Digital Strategy',\n",
       " 'Go-to-market Strategy',\n",
       " 'Market Analysis',\n",
       " 'JSON',\n",
       " 'HTML',\n",
       " 'PHP',\n",
       " 'OOP',\n",
       " 'Objective-C',\n",
       " 'HTML5',\n",
       " 'Flash',\n",
       " 'SQL',\n",
       " 'JavaScript',\n",
       " 'Java',\n",
       " 'Software Development',\n",
       " 'XML',\n",
       " 'Oracle',\n",
       " 'Java Enterprise Edition',\n",
       " 'Agile Methodologies',\n",
       " 'MySQL',\n",
       " 'Scrum',\n",
       " 'Microsoft SQL Server',\n",
       " 'Solution Architecture',\n",
       " 'Requirements Analysis',\n",
       " 'Outsourcing',\n",
       " 'Automotive',\n",
       " 'Sales Operations',\n",
       " 'Sourcing',\n",
       " 'Media Relations',\n",
       " 'Public Relations',\n",
       " 'Corporate Communications',\n",
       " 'Marketing Communications',\n",
       " 'Internal Communications',\n",
       " 'Event Management',\n",
       " 'Press Releases',\n",
       " 'Strategic Communications',\n",
       " 'Event Planning',\n",
       " 'Integrated Marketing',\n",
       " 'Media Planning',\n",
       " 'Social Networking',\n",
       " 'Brand Management',\n",
       " 'Digital Media',\n",
       " 'Product Development',\n",
       " 'Merchandising',\n",
       " 'Copywriting',\n",
       " 'Online Advertising',\n",
       " 'Business Analysis',\n",
       " 'Vendor Management',\n",
       " 'Databases',\n",
       " 'Web Development',\n",
       " 'CSS',\n",
       " 'iOS development',\n",
       " 'Photography',\n",
       " 'Creative Strategy',\n",
       " 'Testing',\n",
       " 'Analytical Skills',\n",
       " 'Cascading Style Sheets (CSS)',\n",
       " 'Web Design',\n",
       " 'HTML 5',\n",
       " 'iOS Development',\n",
       " 'Android',\n",
       " 'Linux',\n",
       " 'Embedded Systems',\n",
       " 'C',\n",
       " 'C++',\n",
       " 'Software Engineering',\n",
       " 'iOS',\n",
       " 'Python',\n",
       " 'SEO',\n",
       " 'SEM',\n",
       " 'Email Marketing',\n",
       " 'PPC',\n",
       " 'Web Marketing',\n",
       " 'Hospitality Industry',\n",
       " 'Google Analytics',\n",
       " 'Web Analytics',\n",
       " 'Hospitality',\n",
       " 'Search Engine Optimization (SEO)',\n",
       " 'Inventory Management',\n",
       " 'Finance',\n",
       " 'Accounting',\n",
       " 'Computer Hardware',\n",
       " 'Windows',\n",
       " 'Windows Server',\n",
       " 'CSS3',\n",
       " 'IT Strategy',\n",
       " 'IT Management',\n",
       " 'IT Service Management',\n",
       " 'IT Operations',\n",
       " 'Graphic Design',\n",
       " 'Video Production',\n",
       " 'English',\n",
       " 'Teamwork',\n",
       " 'Data Analysis',\n",
       " 'Photoshop',\n",
       " 'Teaching',\n",
       " 'Creative Writing',\n",
       " 'Time Management',\n",
       " 'Fashion',\n",
       " '.NET',\n",
       " 'Ruby on Rails',\n",
       " 'Software Project Management',\n",
       " 'ASP.NET',\n",
       " 'C#',\n",
       " 'Web Applications',\n",
       " 'jQuery',\n",
       " 'Git',\n",
       " 'Android Development',\n",
       " 'Manufacturing',\n",
       " 'Electronics',\n",
       " 'Lean Manufacturing',\n",
       " 'Automation',\n",
       " 'ISO',\n",
       " 'Continuous Improvement',\n",
       " 'Supply Chain',\n",
       " 'FMEA',\n",
       " 'Kaizen',\n",
       " '5S',\n",
       " 'Competitive Analysis',\n",
       " 'Analytics',\n",
       " 'Brand Development',\n",
       " 'Customer Insight',\n",
       " 'Direct Marketing',\n",
       " 'Apache',\n",
       " 'Dreamweaver',\n",
       " 'IIS',\n",
       " 'WordPress',\n",
       " 'User Interface Design',\n",
       " 'Programming',\n",
       " 'Google Adwords',\n",
       " 'CMS',\n",
       " 'AJAX',\n",
       " 'Visual Studio',\n",
       " 'Joomla',\n",
       " 'Web Services',\n",
       " 'MongoDB',\n",
       " 'AngularJS',\n",
       " 'Human Resources',\n",
       " 'Employee Relations',\n",
       " 'Performance Management',\n",
       " 'Talent Management',\n",
       " 'Talent Acquisition',\n",
       " 'Employee Engagement',\n",
       " 'Leadership Development',\n",
       " 'Succession Planning',\n",
       " 'Recruiting',\n",
       " 'Business Intelligence',\n",
       " 'HR Consulting',\n",
       " 'Project Planning',\n",
       " 'Onboarding',\n",
       " 'HRIS',\n",
       " 'SAP ERP',\n",
       " 'SAP R/3',\n",
       " 'SAP Implementation',\n",
       " 'SAP',\n",
       " 'ERP',\n",
       " 'Enterprise Resource Planning (ERP)',\n",
       " 'Budgets',\n",
       " 'Engineering',\n",
       " 'Six Sigma',\n",
       " 'PLC',\n",
       " 'Process Improvement',\n",
       " 'Engineering Management',\n",
       " 'Electrical Engineering',\n",
       " 'Executive Search',\n",
       " 'Technical Recruiting',\n",
       " 'Recruitment Advertising',\n",
       " 'Interviews',\n",
       " 'Contract Recruitment',\n",
       " 'Team Management',\n",
       " 'Screening',\n",
       " 'Networking',\n",
       " 'Customer Satisfaction',\n",
       " 'Account Management',\n",
       " 'Systems Analysis',\n",
       " 'Crystal Reports',\n",
       " 'Wireless',\n",
       " 'Channel Partners',\n",
       " 'Customer Relationship Management (CRM)',\n",
       " 'Visio',\n",
       " 'Business Process',\n",
       " 'Retail',\n",
       " 'Corporate Branding',\n",
       " 'Product Launch',\n",
       " 'Problem Solving',\n",
       " 'Coaching',\n",
       " 'Interviewing',\n",
       " 'Machine Learning',\n",
       " 'Investments',\n",
       " 'Financial Modeling',\n",
       " 'Statistics',\n",
       " 'Outlook',\n",
       " 'Marketing Research',\n",
       " 'Cisco Technologies',\n",
       " 'TCP/IP',\n",
       " 'Troubleshooting',\n",
       " 'Unix',\n",
       " 'Visual Basic',\n",
       " 'Ruby',\n",
       " 'Node.js',\n",
       " 'Business Process Improvement',\n",
       " 'Enterprise Architecture',\n",
       " 'Risk Management',\n",
       " 'Pre-sales',\n",
       " 'Project Delivery',\n",
       " 'Agile Project Management',\n",
       " 'Quality Management',\n",
       " 'Hotels',\n",
       " 'Hospitality Management',\n",
       " 'Resorts',\n",
       " 'Hotel Management',\n",
       " 'Food & Beverage',\n",
       " 'Tourism',\n",
       " 'Pre-opening',\n",
       " 'Financial Reporting',\n",
       " 'Internal Controls',\n",
       " 'Auditing',\n",
       " 'Real Estate',\n",
       " 'Procurement',\n",
       " 'Energy',\n",
       " 'Laravel',\n",
       " 'Bootstrap',\n",
       " 'Solution Selling',\n",
       " 'Banking',\n",
       " 'Content Management',\n",
       " 'Warehouse Management',\n",
       " 'Cross-functional Team Leadership',\n",
       " 'Financial Services',\n",
       " 'Portfolio Management',\n",
       " 'Mergers & Acquisitions',\n",
       " 'Forecasting',\n",
       " 'Pricing',\n",
       " 'Budgeting',\n",
       " 'Contract Negotiation',\n",
       " 'Yield Management',\n",
       " 'Revenue Analysis',\n",
       " 'Network Security',\n",
       " 'Data Center',\n",
       " 'Cloud Computing',\n",
       " 'ITIL',\n",
       " 'Affiliate Marketing',\n",
       " 'Employer Branding',\n",
       " 'Purchasing',\n",
       " 'New Media',\n",
       " 'User Experience',\n",
       " 'Creative Direction',\n",
       " 'Content Strategy',\n",
       " 'Corporate Finance',\n",
       " 'Content Marketing',\n",
       " 'Financial Analysis',\n",
       " 'Data Migration',\n",
       " 'Financial Accounting',\n",
       " 'Due Diligence',\n",
       " 'Data Warehousing',\n",
       " 'Security',\n",
       " 'Servers',\n",
       " 'System Administration',\n",
       " 'Editing',\n",
       " 'Qualitative Research',\n",
       " 'Project Coordination',\n",
       " 'Adobe Creative Suite',\n",
       " 'Presentations',\n",
       " 'HR Policies',\n",
       " 'Deferred Compensation',\n",
       " 'Professional Services',\n",
       " 'Process Engineering',\n",
       " 'Semiconductors',\n",
       " 'Adobe Photoshop',\n",
       " 'Blogging',\n",
       " 'SPSS',\n",
       " 'Graphics',\n",
       " 'Illustrator',\n",
       " 'Art Direction',\n",
       " 'Employee Training',\n",
       " 'Screening Resumes',\n",
       " 'SDLC',\n",
       " 'PL/SQL',\n",
       " 'Subversion',\n",
       " 'Salesforce.com',\n",
       " 'Business Requirements',\n",
       " 'Translation',\n",
       " 'Investment Banking',\n",
       " 'Transportation',\n",
       " 'Warehousing',\n",
       " 'Supply Chain Optimization',\n",
       " 'Quality Assurance',\n",
       " 'Market Planning',\n",
       " 'Scala',\n",
       " 'Hadoop',\n",
       " 'Production Planning',\n",
       " 'ASP.NET MVC',\n",
       " 'Design Patterns',\n",
       " 'Algorithms',\n",
       " 'PostgreSQL',\n",
       " 'Employee Benefits',\n",
       " 'Writing',\n",
       " 'Matlab',\n",
       " 'Database Design',\n",
       " 'Video Editing',\n",
       " 'Eclipse',\n",
       " 'Personnel Management',\n",
       " 'Temporary Placement',\n",
       " 'Drupal',\n",
       " 'Consumer Behaviour',\n",
       " 'RESTful WebServices',\n",
       " 'Television',\n",
       " 'JIRA',\n",
       " 'Trade Marketing',\n",
       " 'Restaurants',\n",
       " 'Hibernate',\n",
       " 'REST',\n",
       " 'JSP',\n",
       " 'Spring Framework',\n",
       " 'Tomcat',\n",
       " 'IP',\n",
       " 'Virtualization',\n",
       " 'French',\n",
       " 'Xcode',\n",
       " 'Website Development',\n",
       " 'GSM',\n",
       " '3G',\n",
       " 'Insurance',\n",
       " 'Customer Relations',\n",
       " 'UML',\n",
       " 'Technical Support',\n",
       " 'Valuation',\n",
       " 'Swift',\n",
       " 'MS Project',\n",
       " 'Contract Management',\n",
       " 'MVC']"
      ]
     },
     "execution_count": 21,
     "metadata": {},
     "output_type": "execute_result"
    }
   ],
   "source": [
    "candi = candi_sk.apply(lambda x : skill_to_list(x))\n",
    "skill_union = []\n",
    "for cd in candi:\n",
    "    skill_union = skill_union + [x for x in cd if x not in skill_union]\n",
    "\n",
    "skill_count = {}\n",
    "for skill in skill_union:\n",
    "    skill_count[skill] = 0\n",
    "\n",
    "for cd in candi:\n",
    "    for skill in cd:\n",
    "        skill_count[skill] += 1\n",
    "\n",
    "common_skill = []\n",
    "for skill in skill_count.keys():\n",
    "    if skill_count[skill] > 10:\n",
    "        common_skill.append(skill)\n",
    "        \n",
    "common_skill"
   ]
  },
  {
   "cell_type": "code",
   "execution_count": 22,
   "metadata": {},
   "outputs": [
    {
     "data": {
      "text/plain": [
       "'<p><strong>Responsible:</strong></p><ul><li>Prospect, pitch and close sales</li><li>Lead discovery sessions to identify the customer&rsquo;s key needs and pain points</li><li>Work with the prospect in a consultative fashion to develop a digital marketing strategy</li><li>Consistently deliver individual sales targets every month</li><li>Prepares reports by collecting, analyzing, and summarizing information</li><li>Develop a strong understanding of the client&rsquo;s business and make digital marketing plan</li><li>Maintains professional and technical knowledge by attending educational workshops; reviewing professional publications; establishing personal networks; benchmarking state-of-the-art practices; participating in professional societies</li><li>Continuously develop yourself and your team to stay on top of the latest industry innovations and trends</li><li>Lead and navigate the team</li><li>Engage in recruiting, training and retaining</li></ul><p><strong>Qualification:</strong></p><ul><li>Bachelor&rsquo;s Degree</li><li>Good command of English and Thai</li><li>Experience in Sales for 2+ years with outstanding result</li><li>Experience in Digital Marketing industry for 1+ year &nbsp;</li><li>Critical thinking and Logical Reasoning</li><li>Fun to communicate with</li><li>Result-oriented mind with passion for work</li><li>Detail-oriented, well organized with good sense of responsibility</li></ul>'"
      ]
     },
     "execution_count": 22,
     "metadata": {},
     "output_type": "execute_result"
    }
   ],
   "source": [
    "jobs_raw.iloc[1][\"description\"]"
   ]
  },
  {
   "cell_type": "code",
   "execution_count": 23,
   "metadata": {},
   "outputs": [
    {
     "data": {
      "text/plain": [
       "True"
      ]
     },
     "execution_count": 23,
     "metadata": {},
     "output_type": "execute_result"
    }
   ],
   "source": [
    "True if 'Digital Marketing' in common_skill else False"
   ]
  },
  {
   "cell_type": "code",
   "execution_count": 24,
   "metadata": {
    "collapsed": true
   },
   "outputs": [],
   "source": [
    "job_require = ['Leadership',\n",
    "               'Marketing',\n",
    "               'Marketing Strategy',\n",
    "               'Training',\n",
    "               'Analysis',\n",
    "               'Digital Marketing',\n",
    "               'Business Planning',\n",
    "               'Online Marketing',\n",
    "               'Team Leadership']"
   ]
  },
  {
   "cell_type": "code",
   "execution_count": 25,
   "metadata": {
    "collapsed": true
   },
   "outputs": [],
   "source": [
    "@np.vectorize\n",
    "def intersect_job_require(l):\n",
    "    return len([x for x in job_require if x in l]) >= 3"
   ]
  },
  {
   "cell_type": "code",
   "execution_count": 26,
   "metadata": {},
   "outputs": [
    {
     "data": {
      "text/plain": [
       "array([ True, False, False, ..., False, False, False], dtype=bool)"
      ]
     },
     "execution_count": 26,
     "metadata": {},
     "output_type": "execute_result"
    }
   ],
   "source": [
    "label = intersect_job_require(candi)\n",
    "label"
   ]
  },
  {
   "cell_type": "code",
   "execution_count": 27,
   "metadata": {},
   "outputs": [
    {
     "data": {
      "text/plain": [
       "266"
      ]
     },
     "execution_count": 27,
     "metadata": {},
     "output_type": "execute_result"
    }
   ],
   "source": [
    "len(candi[intersect_job_require(candi)])"
   ]
  },
  {
   "cell_type": "code",
   "execution_count": 28,
   "metadata": {},
   "outputs": [
    {
     "data": {
      "text/plain": [
       "array([0, 0, 0, ..., 0, 0, 0])"
      ]
     },
     "execution_count": 28,
     "metadata": {},
     "output_type": "execute_result"
    }
   ],
   "source": [
    "up = np.random.choice([0,1],len(candi),p=[0.9,0.1])\n",
    "up"
   ]
  },
  {
   "cell_type": "code",
   "execution_count": 29,
   "metadata": {},
   "outputs": [
    {
     "data": {
      "text/plain": [
       "array([0, 0, 0, ..., 0, 0, 0])"
      ]
     },
     "execution_count": 29,
     "metadata": {},
     "output_type": "execute_result"
    }
   ],
   "source": [
    "down = np.random.choice([0,1],len(candi),p=[0.9,0.1])\n",
    "up"
   ]
  },
  {
   "cell_type": "code",
   "execution_count": 30,
   "metadata": {
    "collapsed": true
   },
   "outputs": [],
   "source": [
    "label2 = label | (up==1)"
   ]
  },
  {
   "cell_type": "code",
   "execution_count": 31,
   "metadata": {
    "collapsed": true
   },
   "outputs": [],
   "source": [
    "label3 = label2 & (down==0)"
   ]
  },
  {
   "cell_type": "code",
   "execution_count": 37,
   "metadata": {},
   "outputs": [],
   "source": [
    "label3\n",
    "fm = pd.DataFrame(label3)"
   ]
  },
  {
   "cell_type": "code",
   "execution_count": 38,
   "metadata": {},
   "outputs": [
    {
     "data": {
      "text/plain": [
       "266"
      ]
     },
     "execution_count": 38,
     "metadata": {},
     "output_type": "execute_result"
    }
   ],
   "source": [
    "len(label[label==True])"
   ]
  },
  {
   "cell_type": "code",
   "execution_count": 39,
   "metadata": {},
   "outputs": [
    {
     "data": {
      "text/plain": [
       "309"
      ]
     },
     "execution_count": 39,
     "metadata": {},
     "output_type": "execute_result"
    }
   ],
   "source": [
    "len(label3[label3==True])"
   ]
  },
  {
   "cell_type": "code",
   "execution_count": 41,
   "metadata": {},
   "outputs": [],
   "source": [
    "fm.to_csv(\"label.csv\")"
   ]
  },
  {
   "cell_type": "code",
   "execution_count": null,
   "metadata": {
    "collapsed": true
   },
   "outputs": [],
   "source": []
  }
 ],
 "metadata": {
  "kernelspec": {
   "display_name": "Python 3",
   "language": "python",
   "name": "python3"
  },
  "language_info": {
   "codemirror_mode": {
    "name": "ipython",
    "version": 3
   },
   "file_extension": ".py",
   "mimetype": "text/x-python",
   "name": "python",
   "nbconvert_exporter": "python",
   "pygments_lexer": "ipython3",
   "version": "3.6.1"
  }
 },
 "nbformat": 4,
 "nbformat_minor": 2
}
