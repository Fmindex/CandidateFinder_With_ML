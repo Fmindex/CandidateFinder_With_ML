{
 "cells": [
  {
   "cell_type": "code",
   "execution_count": 74,
   "metadata": {
    "collapsed": true
   },
   "outputs": [],
   "source": [
    "import numpy as np\n",
    "import pandas as pd\n",
    "candi_raw = pd.read_csv('test_candidate_s.csv')\n",
    "jobs_raw = pd.read_csv('test_job.csv')"
   ]
  },
  {
   "cell_type": "code",
   "execution_count": 72,
   "metadata": {
    "collapsed": true
   },
   "outputs": [],
   "source": [
    "candi_sk = candi_raw[\"skills\"]"
   ]
  },
  {
   "cell_type": "code",
   "execution_count": 63,
   "metadata": {
    "collapsed": true
   },
   "outputs": [],
   "source": [
    "def skill_to_list(skill_str):\n",
    "    return list(map(lambda x : x[1:-1].split(': ')[0][1:-1],skill_str[1:-1].split(', ')))"
   ]
  },
  {
   "cell_type": "code",
   "execution_count": 89,
   "metadata": {},
   "outputs": [
    {
     "data": {
      "text/plain": [
       "['Strategy',\n",
       " 'Business Strategy',\n",
       " 'Management',\n",
       " 'Business Development',\n",
       " 'Strategic Planning',\n",
       " 'Project Management',\n",
       " 'E-commerce',\n",
       " 'Business Planning',\n",
       " 'New Business Development',\n",
       " 'Leadership',\n",
       " 'Training',\n",
       " 'Negotiation',\n",
       " 'Marketing',\n",
       " 'Operations Management',\n",
       " 'Marketing Strategy',\n",
       " 'Change Management',\n",
       " 'Social Media',\n",
       " 'Microsoft Office',\n",
       " 'Customer Service',\n",
       " 'Microsoft Excel',\n",
       " 'Microsoft Word',\n",
       " 'PowerPoint',\n",
       " 'Sales',\n",
       " 'Supply Chain Management',\n",
       " 'Marketing Management',\n",
       " 'Team Leadership',\n",
       " 'Team Building',\n",
       " 'CRM',\n",
       " 'Market Research',\n",
       " 'Online Marketing',\n",
       " 'Social Media Marketing',\n",
       " 'Digital Marketing',\n",
       " 'Advertising',\n",
       " 'Analysis',\n",
       " 'SQL',\n",
       " 'JavaScript',\n",
       " 'Public Relations',\n",
       " 'Marketing Communications',\n",
       " 'Online Advertising',\n",
       " 'Business Analysis',\n",
       " 'Project Planning',\n",
       " 'Process Improvement']"
      ]
     },
     "execution_count": 89,
     "metadata": {},
     "output_type": "execute_result"
    }
   ],
   "source": [
    "candi = candi_sk.apply(lambda x : skill_to_list(x))\n",
    "skill_union = []\n",
    "for cd in candi:\n",
    "    skill_union = skill_union + [x for x in cd if x not in skill_union]\n",
    "\n",
    "skill_count = {}\n",
    "for skill in skill_union:\n",
    "    skill_count[skill] = 0\n",
    "\n",
    "for cd in candi:\n",
    "    for skill in cd:\n",
    "        skill_count[skill] += 1\n",
    "\n",
    "common_skill = []\n",
    "for skill in skill_count.keys():\n",
    "    if skill_count[skill] > 10:\n",
    "        common_skill.append(skill)\n",
    "        \n",
    "common_skill"
   ]
  },
  {
   "cell_type": "code",
   "execution_count": 101,
   "metadata": {},
   "outputs": [
    {
     "data": {
      "text/plain": [
       "'<p><strong>Responsible:</strong></p><ul><li>Prospect, pitch and close sales</li><li>Lead discovery sessions to identify the customer&rsquo;s key needs and pain points</li><li>Work with the prospect in a consultative fashion to develop a digital marketing strategy</li><li>Consistently deliver individual sales targets every month</li><li>Prepares reports by collecting, analyzing, and summarizing information</li><li>Develop a strong understanding of the client&rsquo;s business and make digital marketing plan</li><li>Maintains professional and technical knowledge by attending educational workshops; reviewing professional publications; establishing personal networks; benchmarking state-of-the-art practices; participating in professional societies</li><li>Continuously develop yourself and your team to stay on top of the latest industry innovations and trends</li><li>Lead and navigate the team</li><li>Engage in recruiting, training and retaining</li></ul><p><strong>Qualification:</strong></p><ul><li>Bachelor&rsquo;s Degree</li><li>Good command of English and Thai</li><li>Experience in Sales for 2+ years with outstanding result</li><li>Experience in Digital Marketing industry for 1+ year &nbsp;</li><li>Critical thinking and Logical Reasoning</li><li>Fun to communicate with</li><li>Result-oriented mind with passion for work</li><li>Detail-oriented, well organized with good sense of responsibility</li></ul>'"
      ]
     },
     "execution_count": 101,
     "metadata": {},
     "output_type": "execute_result"
    }
   ],
   "source": [
    "jobs_raw.iloc[1][\"description\"]"
   ]
  },
  {
   "cell_type": "code",
   "execution_count": 106,
   "metadata": {},
   "outputs": [
    {
     "data": {
      "text/plain": [
       "True"
      ]
     },
     "execution_count": 106,
     "metadata": {},
     "output_type": "execute_result"
    }
   ],
   "source": [
    "True if 'Digital Marketing' in common_skill else False"
   ]
  },
  {
   "cell_type": "code",
   "execution_count": 128,
   "metadata": {
    "collapsed": true
   },
   "outputs": [],
   "source": [
    "job_require = ['Leadership',\n",
    "               'Marketing',\n",
    "               'Marketing Strategy',\n",
    "               'Training',\n",
    "               'Analysis',\n",
    "               'Digital Marketing',\n",
    "               'Business Planning',\n",
    "               'Online Marketing',\n",
    "               'Team Leadership']"
   ]
  },
  {
   "cell_type": "code",
   "execution_count": 143,
   "metadata": {
    "collapsed": true
   },
   "outputs": [],
   "source": [
    "@np.vectorize\n",
    "def intersect_job_require(l):\n",
    "    return len([x for x in job_require if x in l]) >= 1"
   ]
  },
  {
   "cell_type": "code",
   "execution_count": 145,
   "metadata": {},
   "outputs": [
    {
     "data": {
      "text/plain": [
       "array([ True,  True,  True,  True,  True, False,  True,  True,  True,\n",
       "        True,  True, False, False, False,  True,  True, False, False,\n",
       "        True,  True, False, False,  True, False,  True,  True, False,\n",
       "       False,  True,  True, False, False, False,  True, False,  True,\n",
       "        True, False,  True,  True, False, False,  True,  True,  True,\n",
       "        True, False,  True,  True, False,  True,  True,  True,  True,\n",
       "        True, False, False, False, False,  True, False,  True,  True,\n",
       "        True, False,  True,  True,  True,  True,  True,  True, False,\n",
       "        True,  True, False, False,  True,  True, False,  True,  True,\n",
       "       False, False, False, False,  True, False,  True, False, False,\n",
       "       False, False, False,  True,  True, False,  True,  True,  True,\n",
       "        True, False,  True, False, False, False,  True, False,  True,\n",
       "        True,  True, False,  True, False, False, False,  True,  True,\n",
       "        True, False,  True, False,  True,  True,  True, False,  True,\n",
       "       False, False,  True, False, False, False,  True, False,  True], dtype=bool)"
      ]
     },
     "execution_count": 145,
     "metadata": {},
     "output_type": "execute_result"
    }
   ],
   "source": [
    "intersect_job_require(candi)"
   ]
  },
  {
   "cell_type": "code",
   "execution_count": 146,
   "metadata": {},
   "outputs": [
    {
     "data": {
      "text/plain": [
       "array([ True,  True,  True,  True,  True, False,  True,  True,  True,\n",
       "        True,  True, False, False, False,  True,  True, False, False,\n",
       "        True,  True, False, False,  True, False,  True,  True, False,\n",
       "       False,  True,  True, False, False, False,  True, False,  True,\n",
       "        True, False,  True,  True, False, False,  True,  True,  True,\n",
       "        True, False,  True,  True, False,  True,  True,  True,  True,\n",
       "        True, False, False, False, False,  True, False,  True,  True,\n",
       "        True, False,  True,  True,  True,  True,  True,  True, False,\n",
       "        True,  True, False, False,  True,  True, False,  True,  True,\n",
       "       False, False, False, False,  True, False,  True, False, False,\n",
       "       False, False, False,  True,  True, False,  True,  True,  True,\n",
       "        True, False,  True, False, False, False,  True, False,  True,\n",
       "        True,  True, False,  True, False, False, False,  True,  True,\n",
       "        True, False,  True, False,  True,  True,  True, False,  True,\n",
       "       False, False,  True, False, False, False,  True, False,  True], dtype=bool)"
      ]
     },
     "execution_count": 146,
     "metadata": {},
     "output_type": "execute_result"
    }
   ],
   "source": [
    "intersect_job_require(candi) == True"
   ]
  }
 ],
 "metadata": {
  "kernelspec": {
   "display_name": "Python 3",
   "language": "python",
   "name": "python3"
  },
  "language_info": {
   "codemirror_mode": {
    "name": "ipython",
    "version": 3
   },
   "file_extension": ".py",
   "mimetype": "text/x-python",
   "name": "python",
   "nbconvert_exporter": "python",
   "pygments_lexer": "ipython3",
   "version": "3.6.1"
  }
 },
 "nbformat": 4,
 "nbformat_minor": 2
}
