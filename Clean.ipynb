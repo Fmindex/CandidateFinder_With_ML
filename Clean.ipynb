{
 "cells": [
  {
   "cell_type": "code",
   "execution_count": 1,
   "metadata": {},
   "outputs": [
    {
     "name": "stderr",
     "output_type": "stream",
     "text": [
      "/Users/ekkalakleelasornchai/anaconda/lib/python3.6/site-packages/numexpr/cpuinfo.py:53: UserWarning: [Errno 2] No such file or directory: 'arch'\n",
      "  stacklevel=stacklevel + 1)\n",
      "/Users/ekkalakleelasornchai/anaconda/lib/python3.6/site-packages/numexpr/cpuinfo.py:53: UserWarning: [Errno 2] No such file or directory: 'machine'\n",
      "  stacklevel=stacklevel + 1)\n",
      "/Users/ekkalakleelasornchai/anaconda/lib/python3.6/site-packages/numexpr/cpuinfo.py:76: UserWarning: [Errno 2] No such file or directory: 'sysctl'\n",
      "  stacklevel=stacklevel + 1):\n"
     ]
    }
   ],
   "source": [
    "import numpy as np\n",
    "import pandas as pd\n",
    "candi_raw = pd.read_csv('full_candidate.csv')\n",
    "jobs_raw = pd.read_csv('test_job.csv')"
   ]
  },
  {
   "cell_type": "code",
   "execution_count": 2,
   "metadata": {
    "collapsed": true
   },
   "outputs": [],
   "source": [
    "candi_sk = candi_raw[\"skills\"]"
   ]
  },
  {
   "cell_type": "code",
   "execution_count": 3,
   "metadata": {
    "collapsed": true
   },
   "outputs": [],
   "source": [
    "def skill_to_list(skill_str):\n",
    "    return list(map(lambda x : x[1:-1].split(': ')[0][1:-1],skill_str[1:-1].split(', ')))"
   ]
  },
  {
   "cell_type": "code",
   "execution_count": 4,
   "metadata": {},
   "outputs": [
    {
     "data": {
      "text/plain": [
       "['Strategy',\n",
       " 'Start-ups',\n",
       " 'Business Strategy',\n",
       " 'Management',\n",
       " 'Entrepreneurship',\n",
       " 'Business Development',\n",
       " 'Strategic Planning',\n",
       " 'Project Management',\n",
       " 'E-commerce',\n",
       " 'Business Planning',\n",
       " 'New Business Development',\n",
       " 'Management Consulting',\n",
       " 'Leadership',\n",
       " 'Training',\n",
       " 'Organizational Development',\n",
       " 'Negotiation',\n",
       " 'Marketing',\n",
       " 'Program Management',\n",
       " 'Operations Management',\n",
       " 'Marketing Strategy',\n",
       " 'Mobile Devices',\n",
       " 'Change Management',\n",
       " 'Strategic Partnerships',\n",
       " 'International Business',\n",
       " 'Social Media',\n",
       " 'Microsoft Office',\n",
       " 'Customer Service',\n",
       " 'Microsoft Excel',\n",
       " 'Facebook',\n",
       " 'Microsoft Word',\n",
       " 'Research',\n",
       " 'PowerPoint',\n",
       " 'Communication',\n",
       " 'Public Speaking',\n",
       " 'Sales',\n",
       " 'Logistics',\n",
       " 'Supply Chain Management',\n",
       " 'Logistics Management',\n",
       " 'Sales Management',\n",
       " 'Marketing Management',\n",
       " 'Team Leadership',\n",
       " 'FMCG',\n",
       " 'Team Building',\n",
       " 'CRM',\n",
       " 'SaaS',\n",
       " 'Market Research',\n",
       " 'Enterprise Software',\n",
       " 'Product Management',\n",
       " 'Online Marketing',\n",
       " 'Social Media Marketing',\n",
       " 'Digital Marketing',\n",
       " 'International Sales',\n",
       " 'Mobile Applications',\n",
       " 'B2B',\n",
       " 'Advertising',\n",
       " 'Product Marketing',\n",
       " 'Consulting',\n",
       " 'Integration',\n",
       " 'Mobile Marketing',\n",
       " 'Analysis',\n",
       " 'Telecommunications',\n",
       " 'Sales Process',\n",
       " 'Key Account Management',\n",
       " 'Digital Strategy',\n",
       " 'Market Analysis',\n",
       " 'JSON',\n",
       " 'HTML',\n",
       " 'PHP',\n",
       " 'OOP',\n",
       " 'Objective-C',\n",
       " 'HTML5',\n",
       " 'SQL',\n",
       " 'JavaScript',\n",
       " 'Java',\n",
       " 'Software Development',\n",
       " 'XML',\n",
       " 'Oracle',\n",
       " 'Agile Methodologies',\n",
       " 'MySQL',\n",
       " 'Scrum',\n",
       " 'Microsoft SQL Server',\n",
       " 'Solution Architecture',\n",
       " 'Requirements Analysis',\n",
       " 'Automotive',\n",
       " 'Sales Operations',\n",
       " 'Sourcing',\n",
       " 'Public Relations',\n",
       " 'Corporate Communications',\n",
       " 'Marketing Communications',\n",
       " 'Event Management',\n",
       " 'Strategic Communications',\n",
       " 'Event Planning',\n",
       " 'Integrated Marketing',\n",
       " 'Media Planning',\n",
       " 'Social Networking',\n",
       " 'Brand Management',\n",
       " 'Digital Media',\n",
       " 'Product Development',\n",
       " 'Merchandising',\n",
       " 'Copywriting',\n",
       " 'Online Advertising',\n",
       " 'Business Analysis',\n",
       " 'Vendor Management',\n",
       " 'Databases',\n",
       " 'Web Development',\n",
       " 'CSS',\n",
       " 'Photography',\n",
       " 'Testing',\n",
       " 'Cascading Style Sheets (CSS)',\n",
       " 'Web Design',\n",
       " 'HTML 5',\n",
       " 'Android',\n",
       " 'Linux',\n",
       " 'C',\n",
       " 'C++',\n",
       " 'Software Engineering',\n",
       " 'Python',\n",
       " 'SEO',\n",
       " 'SEM',\n",
       " 'Email Marketing',\n",
       " 'Hospitality Industry',\n",
       " 'Google Analytics',\n",
       " 'Web Analytics',\n",
       " 'Hospitality',\n",
       " 'Inventory Management',\n",
       " 'Finance',\n",
       " 'Windows',\n",
       " 'Windows Server',\n",
       " 'IT Strategy',\n",
       " 'IT Management',\n",
       " 'IT Service Management',\n",
       " 'Graphic Design',\n",
       " 'English',\n",
       " 'Teamwork',\n",
       " 'Data Analysis',\n",
       " 'Photoshop',\n",
       " 'Teaching',\n",
       " 'Time Management',\n",
       " '.NET',\n",
       " 'Software Project Management',\n",
       " 'ASP.NET',\n",
       " 'C#',\n",
       " 'Web Applications',\n",
       " 'jQuery',\n",
       " 'Git',\n",
       " 'Manufacturing',\n",
       " 'Electronics',\n",
       " 'Lean Manufacturing',\n",
       " 'Automation',\n",
       " 'Continuous Improvement',\n",
       " 'Supply Chain',\n",
       " 'Kaizen',\n",
       " 'Competitive Analysis',\n",
       " 'Analytics',\n",
       " 'Brand Development',\n",
       " 'Customer Insight',\n",
       " 'WordPress',\n",
       " 'User Interface Design',\n",
       " 'Programming',\n",
       " 'Google Adwords',\n",
       " 'AJAX',\n",
       " 'Visual Studio',\n",
       " 'Web Services',\n",
       " 'MongoDB',\n",
       " 'AngularJS',\n",
       " 'Human Resources',\n",
       " 'Employee Relations',\n",
       " 'Performance Management',\n",
       " 'Talent Management',\n",
       " 'Talent Acquisition',\n",
       " 'Employee Engagement',\n",
       " 'Recruiting',\n",
       " 'Business Intelligence',\n",
       " 'HR Consulting',\n",
       " 'Project Planning',\n",
       " 'HRIS',\n",
       " 'SAP ERP',\n",
       " 'SAP',\n",
       " 'ERP',\n",
       " 'Budgets',\n",
       " 'Engineering',\n",
       " 'Six Sigma',\n",
       " 'Process Improvement',\n",
       " 'Executive Search',\n",
       " 'Technical Recruiting',\n",
       " 'Interviews',\n",
       " 'Team Management',\n",
       " 'Networking',\n",
       " 'Customer Satisfaction',\n",
       " 'Account Management',\n",
       " 'Customer Relationship Management (CRM)',\n",
       " 'Business Process',\n",
       " 'Retail',\n",
       " 'Coaching',\n",
       " 'Machine Learning',\n",
       " 'Marketing Research',\n",
       " 'Troubleshooting',\n",
       " 'Unix',\n",
       " 'Visual Basic',\n",
       " 'Node.js',\n",
       " 'Business Process Improvement',\n",
       " 'Risk Management',\n",
       " 'Pre-sales',\n",
       " 'Hotels',\n",
       " 'Hospitality Management',\n",
       " 'Hotel Management',\n",
       " 'Financial Reporting',\n",
       " 'Procurement',\n",
       " 'Solution Selling',\n",
       " 'Banking',\n",
       " 'Cross-functional Team Leadership',\n",
       " 'Portfolio Management',\n",
       " 'Mergers & Acquisitions',\n",
       " 'Forecasting',\n",
       " 'Pricing',\n",
       " 'Contract Negotiation',\n",
       " 'Data Center',\n",
       " 'Cloud Computing',\n",
       " 'ITIL',\n",
       " 'New Media',\n",
       " 'User Experience',\n",
       " 'Creative Direction',\n",
       " 'Content Strategy',\n",
       " 'Corporate Finance',\n",
       " 'Financial Analysis',\n",
       " 'Editing',\n",
       " 'Art Direction',\n",
       " 'SDLC',\n",
       " 'Subversion',\n",
       " 'Quality Assurance',\n",
       " 'Market Planning',\n",
       " 'ASP.NET MVC',\n",
       " 'PostgreSQL',\n",
       " 'Eclipse',\n",
       " 'Personnel Management']"
      ]
     },
     "execution_count": 4,
     "metadata": {},
     "output_type": "execute_result"
    }
   ],
   "source": [
    "candi = candi_sk.apply(lambda x : skill_to_list(x))\n",
    "skill_union = []\n",
    "for cd in candi:\n",
    "    skill_union = skill_union + [x for x in cd if x not in skill_union]\n",
    "\n",
    "skill_count = {}\n",
    "for skill in skill_union:\n",
    "    skill_count[skill] = 0\n",
    "\n",
    "for cd in candi:\n",
    "    for skill in cd:\n",
    "        skill_count[skill] += 1\n",
    "\n",
    "common_skill = []\n",
    "for skill in skill_count.keys():\n",
    "    if skill_count[skill] > 10:\n",
    "        common_skill.append(skill)\n",
    "        \n",
    "common_skill"
   ]
  },
  {
   "cell_type": "code",
   "execution_count": 5,
   "metadata": {},
   "outputs": [
    {
     "data": {
      "text/plain": [
       "'<p><strong>Responsible:</strong></p><ul><li>Prospect, pitch and close sales</li><li>Lead discovery sessions to identify the customer&rsquo;s key needs and pain points</li><li>Work with the prospect in a consultative fashion to develop a digital marketing strategy</li><li>Consistently deliver individual sales targets every month</li><li>Prepares reports by collecting, analyzing, and summarizing information</li><li>Develop a strong understanding of the client&rsquo;s business and make digital marketing plan</li><li>Maintains professional and technical knowledge by attending educational workshops; reviewing professional publications; establishing personal networks; benchmarking state-of-the-art practices; participating in professional societies</li><li>Continuously develop yourself and your team to stay on top of the latest industry innovations and trends</li><li>Lead and navigate the team</li><li>Engage in recruiting, training and retaining</li></ul><p><strong>Qualification:</strong></p><ul><li>Bachelor&rsquo;s Degree</li><li>Good command of English and Thai</li><li>Experience in Sales for 2+ years with outstanding result</li><li>Experience in Digital Marketing industry for 1+ year &nbsp;</li><li>Critical thinking and Logical Reasoning</li><li>Fun to communicate with</li><li>Result-oriented mind with passion for work</li><li>Detail-oriented, well organized with good sense of responsibility</li></ul>'"
      ]
     },
     "execution_count": 5,
     "metadata": {},
     "output_type": "execute_result"
    }
   ],
   "source": [
    "jobs_raw.iloc[1][\"description\"]"
   ]
  },
  {
   "cell_type": "code",
   "execution_count": 6,
   "metadata": {},
   "outputs": [
    {
     "data": {
      "text/plain": [
       "True"
      ]
     },
     "execution_count": 6,
     "metadata": {},
     "output_type": "execute_result"
    }
   ],
   "source": [
    "True if 'Digital Marketing' in common_skill else False"
   ]
  },
  {
   "cell_type": "code",
   "execution_count": 7,
   "metadata": {
    "collapsed": true
   },
   "outputs": [],
   "source": [
    "job_require = ['Leadership',\n",
    "               'Marketing',\n",
    "               'Marketing Strategy',\n",
    "               'Training',\n",
    "               'Analysis',\n",
    "               'Digital Marketing',\n",
    "               'Business Planning',\n",
    "               'Online Marketing',\n",
    "               'Team Leadership']"
   ]
  },
  {
   "cell_type": "code",
   "execution_count": 13,
   "metadata": {
    "collapsed": true
   },
   "outputs": [],
   "source": [
    "@np.vectorize\n",
    "def intersect_job_require(l):\n",
    "    return len([x for x in job_require if x in l]) >= 3"
   ]
  },
  {
   "cell_type": "code",
   "execution_count": 14,
   "metadata": {
    "scrolled": true
   },
   "outputs": [
    {
     "data": {
      "text/plain": [
       "array([ True, False, False, False,  True, False, False, False,  True,\n",
       "       False,  True, False, False, False,  True, False, False, False,\n",
       "        True, False, False, False, False, False,  True,  True, False,\n",
       "       False, False, False, False, False, False, False, False,  True,\n",
       "        True, False,  True, False, False, False, False,  True,  True,\n",
       "       False, False,  True,  True, False, False, False, False,  True,\n",
       "       False, False, False, False, False,  True, False, False,  True,\n",
       "        True, False,  True, False, False,  True,  True, False, False,\n",
       "        True,  True, False, False, False,  True, False, False,  True,\n",
       "       False, False, False, False, False, False,  True, False, False,\n",
       "       False, False, False,  True, False, False, False,  True,  True,\n",
       "       False, False,  True, False, False, False,  True, False, False,\n",
       "       False, False, False, False, False, False, False, False, False,\n",
       "       False, False, False, False,  True,  True,  True, False,  True,\n",
       "       False, False, False, False, False, False,  True, False, False,\n",
       "       False,  True,  True,  True,  True, False,  True, False, False,\n",
       "       False,  True, False, False,  True,  True, False, False, False,\n",
       "        True, False, False, False, False,  True, False, False, False,\n",
       "       False, False,  True, False,  True, False, False, False, False,\n",
       "        True, False, False, False, False, False, False, False, False,\n",
       "       False, False,  True,  True, False,  True,  True, False, False,\n",
       "       False,  True, False, False, False, False, False,  True,  True,\n",
       "        True,  True,  True, False, False, False,  True, False, False,\n",
       "       False, False, False, False, False, False, False, False, False,\n",
       "        True, False, False, False, False, False, False, False,  True,\n",
       "       False, False, False, False, False, False, False, False,  True,\n",
       "       False,  True,  True, False, False, False, False, False,  True,\n",
       "       False, False,  True, False, False, False, False, False, False,\n",
       "       False, False,  True, False, False, False, False, False,  True,\n",
       "       False,  True, False, False,  True, False, False,  True, False,\n",
       "        True, False, False, False,  True, False, False, False, False,\n",
       "        True, False, False, False, False,  True, False, False, False,\n",
       "       False, False, False, False, False,  True, False, False,  True,\n",
       "        True, False, False, False, False, False,  True, False, False,\n",
       "       False, False, False,  True, False,  True,  True, False, False,\n",
       "       False,  True, False, False, False, False, False, False, False,\n",
       "       False, False, False,  True, False, False, False, False,  True,\n",
       "       False, False, False, False, False, False, False,  True, False,\n",
       "       False,  True, False,  True,  True,  True,  True, False, False,\n",
       "       False,  True, False,  True, False, False, False, False,  True,\n",
       "       False, False, False, False, False, False, False, False, False,\n",
       "       False, False, False, False, False, False, False,  True, False,\n",
       "        True, False, False, False, False, False, False, False, False,\n",
       "       False, False,  True, False, False,  True, False,  True, False,\n",
       "       False, False,  True, False, False, False, False, False, False,\n",
       "       False, False, False, False, False, False, False, False, False,\n",
       "       False, False, False, False, False, False, False, False, False,\n",
       "       False, False, False, False, False, False, False, False, False,\n",
       "        True, False, False, False, False, False, False, False, False,\n",
       "        True, False, False, False, False, False, False, False,  True,\n",
       "        True, False, False,  True, False, False, False, False, False,\n",
       "        True, False, False, False,  True, False, False, False, False,\n",
       "       False,  True, False, False, False, False, False,  True, False,\n",
       "        True, False, False, False, False, False, False, False, False,\n",
       "        True, False, False,  True, False, False, False, False,  True,\n",
       "       False, False, False, False, False, False, False, False, False,\n",
       "        True, False,  True, False, False, False, False,  True, False,\n",
       "       False, False, False, False, False, False, False, False, False,\n",
       "       False, False, False,  True, False,  True,  True, False, False,\n",
       "       False,  True,  True, False, False, False, False, False, False,\n",
       "       False, False,  True,  True, False, False, False, False,  True,\n",
       "       False, False, False,  True, False,  True, False, False, False,\n",
       "       False, False, False, False, False, False, False, False, False,\n",
       "       False,  True, False, False, False, False, False,  True, False,\n",
       "       False,  True, False, False, False], dtype=bool)"
      ]
     },
     "execution_count": 14,
     "metadata": {},
     "output_type": "execute_result"
    }
   ],
   "source": [
    "intersect_job_require(candi)"
   ]
  },
  {
   "cell_type": "code",
   "execution_count": 15,
   "metadata": {},
   "outputs": [
    {
     "data": {
      "text/plain": [
       "131"
      ]
     },
     "execution_count": 15,
     "metadata": {},
     "output_type": "execute_result"
    }
   ],
   "source": [
    "len(intersect_job_require(candi)[intersect_job_require(candi) == True])"
   ]
  },
  {
   "cell_type": "code",
   "execution_count": null,
   "metadata": {
    "collapsed": true
   },
   "outputs": [],
   "source": []
  }
 ],
 "metadata": {
  "kernelspec": {
   "display_name": "Python 3",
   "language": "python",
   "name": "python3"
  },
  "language_info": {
   "codemirror_mode": {
    "name": "ipython",
    "version": 3
   },
   "file_extension": ".py",
   "mimetype": "text/x-python",
   "name": "python",
   "nbconvert_exporter": "python",
   "pygments_lexer": "ipython3",
   "version": "3.6.1"
  }
 },
 "nbformat": 4,
 "nbformat_minor": 2
}
